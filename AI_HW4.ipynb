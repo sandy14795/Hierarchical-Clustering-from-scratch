{
  "nbformat": 4,
  "nbformat_minor": 0,
  "metadata": {
    "colab": {
      "name": "AI_HW4.ipynb",
      "provenance": [],
      "collapsed_sections": [],
      "authorship_tag": "ABX9TyOJN0TEHIkcwfboflKQaqXu"
    },
    "kernelspec": {
      "name": "python3",
      "display_name": "Python 3"
    },
    "language_info": {
      "name": "python"
    }
  },
  "cells": [
    {
      "cell_type": "code",
      "metadata": {
        "id": "CE5OGGQMBPIO"
      },
      "source": [
        "import csv\n",
        "from scipy import cluster as cluster\n",
        "import numpy as np\n",
        "import math\n",
        "import matplotlib.pyplot as plt\n",
        "from collections import OrderedDict\n",
        "\n",
        "# import pdb"
      ],
      "execution_count": null,
      "outputs": []
    },
    {
      "cell_type": "code",
      "metadata": {
        "colab": {
          "base_uri": "https://localhost:8080/"
        },
        "id": "cEbG3YtnLQVF",
        "outputId": "0685a9d8-ebe1-4bae-e37d-599c0977233c"
      },
      "source": [
        "x = np.random.uniform(low=0, high=360, size=20).astype(int)\n",
        "x"
      ],
      "execution_count": null,
      "outputs": [
        {
          "output_type": "execute_result",
          "data": {
            "text/plain": [
              "array([246, 225,  44, 247, 277, 124,  29,  27,  49,  31,  39, 224,  25,\n",
              "       344, 358, 162,  57, 170, 101, 179])"
            ]
          },
          "metadata": {},
          "execution_count": 8
        }
      ]
    },
    {
      "cell_type": "code",
      "metadata": {
        "colab": {
          "base_uri": "https://localhost:8080/"
        },
        "id": "eD1ZqmxQBUaQ",
        "outputId": "bce4612a-1fb3-40b5-bd15-bfef5a8691d8"
      },
      "source": [
        "from google.colab import drive\n",
        "#Mount Google Drive\n",
        "drive.mount(\"/content/drive\")\n",
        "base_path = './drive/MyDrive/Colab Notebooks/Data/AI/hw4/'"
      ],
      "execution_count": null,
      "outputs": [
        {
          "output_type": "stream",
          "name": "stdout",
          "text": [
            "Mounted at /content/drive\n"
          ]
        }
      ]
    },
    {
      "cell_type": "code",
      "metadata": {
        "id": "bH1ufN3ECA4K"
      },
      "source": [
        "def load_data(filepath):\n",
        "  with open(filepath, newline='') as csvfile:\n",
        "    reader = csv.DictReader(csvfile)\n",
        "    data = []\n",
        "    for row in reader:\n",
        "      row = dict(row)\n",
        "      del row['Generation']\n",
        "      del row['Legendary']\n",
        "      data.append(row)\n",
        "      \n",
        "    data = data[:20]\n",
        "    for pokemon in data:\n",
        "      for key, val in pokemon.items():\n",
        "        if key not in ['Type 1', 'Type 2', 'Name']:\n",
        "          pokemon[key] = int(val)\n",
        "    return data"
      ],
      "execution_count": null,
      "outputs": []
    },
    {
      "cell_type": "code",
      "metadata": {
        "id": "UEJnVjKyEgWQ"
      },
      "source": [
        "data = load_data(base_path + 'Pokemon.csv')"
      ],
      "execution_count": null,
      "outputs": []
    },
    {
      "cell_type": "code",
      "metadata": {
        "id": "04LD9uTOIxI6"
      },
      "source": [
        "def calculate_x_y(stats):\n",
        "  x = stats['Attack'] + stats['Sp. Atk'] + stats['Speed'] \n",
        "  y = stats['Defense'] + stats['Sp. Def'] + stats['HP']\n",
        "\n",
        "  return (x,y)"
      ],
      "execution_count": null,
      "outputs": []
    },
    {
      "cell_type": "code",
      "metadata": {
        "id": "QOPiG6egNHrb"
      },
      "source": [
        "data_s = []\n",
        "for d in data:\n",
        "  data_s.append(calculate_x_y(d))\n",
        "data_s"
      ],
      "execution_count": null,
      "outputs": []
    },
    {
      "cell_type": "code",
      "metadata": {
        "id": "FVOfbZOz4ihe"
      },
      "source": [
        "def calEucD(d1,d2):\n",
        "  return ( math.sqrt((d1[0] - d2[0])**2 + (d1[1] - d2[1])**2))"
      ],
      "execution_count": null,
      "outputs": []
    },
    {
      "cell_type": "code",
      "metadata": {
        "id": "GDZxjXzDR1Wp"
      },
      "source": [
        "def candidate_clusters(dataset):\n",
        "  alldist = []\n",
        "  for i in dataset:\n",
        "    for j in dataset:\n",
        "      if( i != j):\n",
        "        #for more datapoints in i and j clusters\n",
        "        min_d = float('inf')\n",
        "        min_d_points = []\n",
        "        for all_i_clust in dataset[i]:\n",
        "          for all_j_clust in dataset[j]:\n",
        "            d = calEucD(all_i_clust, all_j_clust)\n",
        "            if d < min_d:\n",
        "              min_d = d\n",
        "              min_d_points = [all_i_clust, all_j_clust]\n",
        "        if ([min_d, sorted(tuple([i,j]))]) not in alldist:\n",
        "          alldist.append([min_d, sorted(tuple([i,j])), min_d_points])\n",
        "  # print(alldist)\n",
        "  alldist.sort(key = lambda x: (x[0], x[1][0], x[1][1]))\n",
        "  return alldist[0]"
      ],
      "execution_count": null,
      "outputs": []
    },
    {
      "cell_type": "code",
      "metadata": {
        "id": "DwexLupdNxOK"
      },
      "source": [
        "def hac(dataset, display = False):\n",
        "  cleaned_data = OrderedDict()\n",
        "  plt.figure()\n",
        "  if display:\n",
        "    xs_ = []\n",
        "    ys_ = []\n",
        "  i = 0\n",
        "  for items in dataset:\n",
        "    if items[0] in [np.nan, np.inf] or items[1] in [np.nan, np.inf]:\n",
        "      pass\n",
        "    else:\n",
        "      cleaned_data[i] = tuple([(items)])\n",
        "      i += 1\n",
        "      if display:\n",
        "        xs_.append(items[0])\n",
        "        ys_.append(items[1])\n",
        "  if display:\n",
        "    plt.scatter(xs_, ys_)\n",
        "  z = []\n",
        "  m = len(cleaned_data)\n",
        "  for i in range(0, len(cleaned_data) -1):\n",
        "    c_c = candidate_clusters(cleaned_data)\n",
        "    # print(c_c)\n",
        "    index = m+i  \n",
        "    cleaned_data[index] = cleaned_data[c_c[1][0]] + cleaned_data[c_c[1][1]]\n",
        "    if display:\n",
        "      xs = []\n",
        "      ys = []\n",
        "      for item in c_c[2]:\n",
        "        xs.append(item[0])\n",
        "        ys.append(item[1])\n",
        "      for item in c_c[2]:\n",
        "        xs.append(item[0])\n",
        "        ys.append(item[1])\n",
        "      plt.scatter(xs_,ys_)\n",
        "      plt.plot(xs,ys)\n",
        "      if( i == m-2):\n",
        "        plt.pause(10)\n",
        "      plt.pause(0.2)\n",
        "      # if(i <= m-3):\n",
        "      #   plt.close()\n",
        "    del cleaned_data[c_c[1][0]]\n",
        "    del cleaned_data[c_c[1][1]]\n",
        "    # print(cleaned_data)\n",
        "\n",
        "    z.append([c_c[1][0], c_c[1][1], c_c[0], len(cleaned_data[m+i])])\n",
        "  return np.array(z)"
      ],
      "execution_count": null,
      "outputs": []
    },
    {
      "cell_type": "code",
      "metadata": {
        "id": "1NnS8r6WRGHV"
      },
      "source": [
        "# res = cluster.hierarchy.linkage(data_s)\n",
        "# res\n",
        "res = hac(data_s)\n",
        "res"
      ],
      "execution_count": null,
      "outputs": []
    },
    {
      "cell_type": "code",
      "metadata": {
        "id": "2ereR3V1UGXr"
      },
      "source": [
        "def random_x_y(m):\n",
        "  x = np.random.uniform(low=0, high=360, size=m)\n",
        "  y = np.random.uniform(low=0, high=360, size=m)\n",
        "\n",
        "  data_x_y = []\n",
        "  for i in range(m):\n",
        "    data_x_y.append((x[i], y[i]))\n",
        "  return data_x_y\n",
        "\n"
      ],
      "execution_count": null,
      "outputs": []
    },
    {
      "cell_type": "code",
      "metadata": {
        "id": "izMRicP-W5Ji"
      },
      "source": [
        "data_xy = random_x_y(150)\n",
        "data_xy"
      ],
      "execution_count": null,
      "outputs": []
    },
    {
      "cell_type": "code",
      "metadata": {
        "id": "TAwL1eMRZ3lL"
      },
      "source": [
        "def imshow_hac(dataset):\n",
        "  return(hac(dataset, True))"
      ],
      "execution_count": null,
      "outputs": []
    },
    {
      "cell_type": "code",
      "metadata": {
        "id": "dX0-y14l9Bx7"
      },
      "source": [
        "res = cluster.hierarchy.linkage(data_xy)\n",
        "res"
      ],
      "execution_count": null,
      "outputs": []
    },
    {
      "cell_type": "code",
      "metadata": {
        "id": "NlFX-2IhbCOe"
      },
      "source": [
        "res = hac(data_xy)\n",
        "res"
      ],
      "execution_count": null,
      "outputs": []
    },
    {
      "cell_type": "code",
      "metadata": {
        "id": "F_v0iTGhOS8J"
      },
      "source": [
        "res = hac([calculate_x_y(stats) for stats in load_data(base_path + 'Pokemon.csv')])\n",
        "res"
      ],
      "execution_count": null,
      "outputs": []
    }
  ]
}